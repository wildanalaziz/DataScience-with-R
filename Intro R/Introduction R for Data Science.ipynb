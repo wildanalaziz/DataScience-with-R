{
 "cells": [
  {
   "cell_type": "markdown",
   "metadata": {},
   "source": [
    "![title](img/DSI.png)"
   ]
  },
  {
   "cell_type": "markdown",
   "metadata": {},
   "source": [
    "# Introduction R for Data Science"
   ]
  },
  {
   "cell_type": "markdown",
   "metadata": {},
   "source": [
    "Achmad Wildan Al Aziz \\| _Data Scientist_ \\| _Lead of Education DSI East Java_"
   ]
  },
  {
   "cell_type": "markdown",
   "metadata": {},
   "source": [
    "## R and Rstudio"
   ]
  },
  {
   "cell_type": "markdown",
   "metadata": {},
   "source": [
    "<img src=\"img/rlogo1.jpg\" width=\"100\">"
   ]
  },
  {
   "cell_type": "markdown",
   "metadata": {},
   "source": [
    "**R** is a language and environment for statistical computing and graphics. Available at [https://cran.r-project.org](https://cran.r-project.org)\n"
   ]
  },
  {
   "cell_type": "markdown",
   "metadata": {},
   "source": [
    "<img src=\"img/rstudiologo.jpg\" width=\"100\">"
   ]
  },
  {
   "cell_type": "markdown",
   "metadata": {},
   "source": [
    "**RStudio** allows the user to run R in a more user friendly environment. It is open source (i.e. free) and available at http://www.rstudio.com/\n"
   ]
  },
  {
   "cell_type": "markdown",
   "metadata": {},
   "source": [
    "## Why Use R?"
   ]
  },
  {
   "cell_type": "markdown",
   "metadata": {},
   "source": [
    "* **Data analysis software**: R is s data analysis software. It is used by data scientists for statistical analysis, predictive modeling and visualization.\n",
    "* **Statistical analysis environment** : R provides a complete environment for statistical analysis. It is easy to implement statistical methods in R. Most of the new research in statistical analysis and modeling is done using R. So, the new techniques are first available only in R.\n",
    "* **Open source**: R is open source technology, so it is very easy to integrate with other applications.\n",
    "* **Community support**: R has the community support of leading statisticians, data scientists from different parts of the world and is growing rapidly.\n"
   ]
  },
  {
   "cell_type": "markdown",
   "metadata": {},
   "source": [
    "<img src=\"img/useR.png\" width=\"700\">"
   ]
  },
  {
   "cell_type": "markdown",
   "metadata": {},
   "source": [
    "<img src=\"img/company.png\" width=\"700\">"
   ]
  },
  {
   "cell_type": "markdown",
   "metadata": {},
   "source": [
    "## Table of Contents\n",
    "\n",
    "[Basic Mathematical Operation](#BasicMathematicalOperation)\n",
    "* [Aritmathic Operation](#AritmathicOperation)\n",
    "* [Assignment Variable](#AssignmentVariable)\n",
    "* [Mathematical Function](#MathematicalFunction)\n",
    "\n",
    "[Data and Variable](#DataandVariable)\n",
    "* [Main Structure](#MainStructure)\n",
    "* [Class](#Class)\n",
    "* [Vector](#Vector)\n",
    "* [Matrix](#Matrix)\n",
    "* [Dataframe](#Dataframe)\n",
    "\n",
    "[Read and Write Data](#ReadandWriteData)\n",
    "\n",
    "[Conditional Statement](#ConditionalStatement)\n",
    "\n",
    "[Logical Function](#LogicalFunction)\n",
    "\n",
    "[Looping](#Looping)\n",
    "* [for](#for)\n",
    "* [while](#while)\n",
    "* [repeat](#repeat)\n",
    "\n",
    "[Function](#Function)\n"
   ]
  },
  {
   "cell_type": "markdown",
   "metadata": {},
   "source": [
    "<a id='BasicMathematicalOperation'></a>\n",
    "## Basic Mathematical Operation"
   ]
  },
  {
   "cell_type": "markdown",
   "metadata": {},
   "source": [
    "<a id='AritmathicOperation'></a>\n",
    "### Aritmathic Operation"
   ]
  },
  {
   "cell_type": "code",
   "execution_count": 1,
   "metadata": {},
   "outputs": [
    {
     "data": {
      "text/html": [
       "14"
      ],
      "text/latex": [
       "14"
      ],
      "text/markdown": [
       "14"
      ],
      "text/plain": [
       "[1] 14"
      ]
     },
     "metadata": {},
     "output_type": "display_data"
    }
   ],
   "source": [
    "5+6+3"
   ]
  },
  {
   "cell_type": "code",
   "execution_count": 2,
   "metadata": {},
   "outputs": [
    {
     "data": {
      "text/html": [
       "8"
      ],
      "text/latex": [
       "8"
      ],
      "text/markdown": [
       "8"
      ],
      "text/plain": [
       "[1] 8"
      ]
     },
     "metadata": {},
     "output_type": "display_data"
    }
   ],
   "source": [
    "5+6-3"
   ]
  },
  {
   "cell_type": "code",
   "execution_count": 3,
   "metadata": {},
   "outputs": [
    {
     "data": {
      "text/html": [
       "6"
      ],
      "text/latex": [
       "6"
      ],
      "text/markdown": [
       "6"
      ],
      "text/plain": [
       "[1] 6"
      ]
     },
     "metadata": {},
     "output_type": "display_data"
    }
   ],
   "source": [
    "(7+5)/2"
   ]
  },
  {
   "cell_type": "code",
   "execution_count": 4,
   "metadata": {},
   "outputs": [
    {
     "data": {
      "text/html": [
       "8"
      ],
      "text/latex": [
       "8"
      ],
      "text/markdown": [
       "8"
      ],
      "text/plain": [
       "[1] 8"
      ]
     },
     "metadata": {},
     "output_type": "display_data"
    }
   ],
   "source": [
    "2^3"
   ]
  },
  {
   "cell_type": "code",
   "execution_count": 5,
   "metadata": {},
   "outputs": [
    {
     "data": {
      "text/html": [
       "64"
      ],
      "text/latex": [
       "64"
      ],
      "text/markdown": [
       "64"
      ],
      "text/plain": [
       "[1] 64"
      ]
     },
     "metadata": {},
     "output_type": "display_data"
    }
   ],
   "source": [
    "2^(2*3)"
   ]
  },
  {
   "cell_type": "code",
   "execution_count": 6,
   "metadata": {},
   "outputs": [
    {
     "data": {
      "text/html": [
       "2"
      ],
      "text/latex": [
       "2"
      ],
      "text/markdown": [
       "2"
      ],
      "text/plain": [
       "[1] 2"
      ]
     },
     "metadata": {},
     "output_type": "display_data"
    }
   ],
   "source": [
    "5 %/% 2 #integer division "
   ]
  },
  {
   "cell_type": "code",
   "execution_count": 7,
   "metadata": {},
   "outputs": [
    {
     "data": {
      "text/html": [
       "1"
      ],
      "text/latex": [
       "1"
      ],
      "text/markdown": [
       "1"
      ],
      "text/plain": [
       "[1] 1"
      ]
     },
     "metadata": {},
     "output_type": "display_data"
    }
   ],
   "source": [
    "5 %% 2 #modulo division  "
   ]
  },
  {
   "cell_type": "markdown",
   "metadata": {},
   "source": [
    "<a id='AssignmentVariable'></a>\n",
    "###  Assignment Variable"
   ]
  },
  {
   "cell_type": "code",
   "execution_count": 8,
   "metadata": {},
   "outputs": [
    {
     "data": {
      "text/html": [
       "2"
      ],
      "text/latex": [
       "2"
      ],
      "text/markdown": [
       "2"
      ],
      "text/plain": [
       "[1] 2"
      ]
     },
     "metadata": {},
     "output_type": "display_data"
    }
   ],
   "source": [
    "a <- 2\n",
    "a"
   ]
  },
  {
   "cell_type": "code",
   "execution_count": 9,
   "metadata": {},
   "outputs": [
    {
     "data": {
      "text/html": [
       "2"
      ],
      "text/latex": [
       "2"
      ],
      "text/markdown": [
       "2"
      ],
      "text/plain": [
       "[1] 2"
      ]
     },
     "metadata": {},
     "output_type": "display_data"
    }
   ],
   "source": [
    "b = 2\n",
    "b"
   ]
  },
  {
   "cell_type": "code",
   "execution_count": 10,
   "metadata": {},
   "outputs": [
    {
     "data": {
      "text/html": [
       "3"
      ],
      "text/latex": [
       "3"
      ],
      "text/markdown": [
       "3"
      ],
      "text/plain": [
       "[1] 3"
      ]
     },
     "metadata": {},
     "output_type": "display_data"
    },
    {
     "data": {
      "text/html": [
       "3"
      ],
      "text/latex": [
       "3"
      ],
      "text/markdown": [
       "3"
      ],
      "text/plain": [
       "[1] 3"
      ]
     },
     "metadata": {},
     "output_type": "display_data"
    },
    {
     "data": {
      "text/html": [
       "3"
      ],
      "text/latex": [
       "3"
      ],
      "text/markdown": [
       "3"
      ],
      "text/plain": [
       "[1] 3"
      ]
     },
     "metadata": {},
     "output_type": "display_data"
    }
   ],
   "source": [
    "d = e = f = 3\n",
    "d\n",
    "e\n",
    "f"
   ]
  },
  {
   "cell_type": "code",
   "execution_count": 11,
   "metadata": {},
   "outputs": [
    {
     "data": {
      "text/html": [
       "3.14159265358979"
      ],
      "text/latex": [
       "3.14159265358979"
      ],
      "text/markdown": [
       "3.14159265358979"
      ],
      "text/plain": [
       "[1] 3.141593"
      ]
     },
     "metadata": {},
     "output_type": "display_data"
    }
   ],
   "source": [
    "pi"
   ]
  },
  {
   "cell_type": "markdown",
   "metadata": {},
   "source": [
    "* names are case sensitive.\n",
    "* pi is a constant, but still can be used as variable name.\n",
    "* print(x) prints content of x "
   ]
  },
  {
   "cell_type": "markdown",
   "metadata": {},
   "source": [
    "<a id='MathematicalFunction'></a>\n",
    "### Mathematical Function"
   ]
  },
  {
   "cell_type": "markdown",
   "metadata": {},
   "source": [
    "Function | Meaning\n",
    "---|---\n",
    "log(x)|log to base e of x\n",
    "exp(x)|antilog of x (=2.7818x)\n",
    "log(x,n)|log to base n of x\n",
    "log10(x)|log to base 10 of x\n",
    "sqrt(x)|square root of x\n",
    "factorial(x)|x!\n",
    "choose(n,x)|binomial coefficients n!/(x! (n – x)!)\n",
    "gamma(x)|Γ.x.(x – 1)! for integer x\n",
    "lgamma(x)|natural log of gamma(x)\n",
    "floor(x)| greatest integer < x\n",
    "ceiling(x)|smallest integer x\n",
    "trunc(x)|closest integer to x between x and 0: trunc(1.5) =1, trunc(-1.5) = -1\n",
    "trunc|is like floor for positive values and like\n",
    "ceiling|for negative values\n",
    "round(x, digits=0)|round the value of x to an integer\n",
    "signif(x, digits=6)|give x to six digits in scientific notation\n",
    "runif(n)|generates n random numbers between 0 and 1 from a uniform distribution\n",
    "cos(x)|cosine of x in radians\n",
    "sin(x)|sine of x in radians\n",
    "tan(x)|tangent of x in radians\n",
    "acos(x), asin(x), atan(x)|inverse trigonometric transformations of real or complex numbers.\n",
    "acosh(x), asinh(x), atanh(x)|inverse hyperbolic trigonometric transformations on real or complex numbers\n",
    "abs(x)|the absolute value of x, ignoring the minus sign if there is one\n"
   ]
  },
  {
   "cell_type": "markdown",
   "metadata": {},
   "source": [
    "<a id='DataandVariable'></a>\n",
    "## Data and Variable"
   ]
  },
  {
   "cell_type": "markdown",
   "metadata": {},
   "source": [
    "<a id='MainStructure'></a>\n",
    "### Main Structure"
   ]
  },
  {
   "cell_type": "markdown",
   "metadata": {},
   "source": [
    "* **Vector** array 1 dimensi dengan ukuran m (1 tipe data)\n",
    "* **Matrix** array 2 dimensi dengan ukuran m × n (1 tipe data)\n",
    "* **Dataframe** seperti matrix, namun bisa menampung lebih dari 1 tipe data \n"
   ]
  },
  {
   "cell_type": "markdown",
   "metadata": {},
   "source": [
    "<a id='Class'></a>\n",
    "### Class"
   ]
  },
  {
   "cell_type": "markdown",
   "metadata": {},
   "source": [
    "* **character** vector of strings\n",
    "* **numeric** vector of real numbers\n",
    "* **integer** vector of signed integer\n",
    "* **logical** vector of boolean (TRUE or FALSE)\n",
    "* **complex** vector of complex numbers\n",
    "* **list** vector of R objects\n",
    "* **factor** sets of labelled observations, pre-defined set of labels\n",
    "* **NA** not available, missing value\n"
   ]
  },
  {
   "cell_type": "markdown",
   "metadata": {},
   "source": [
    "<a id='Vector'></a>\n",
    "#### Vector"
   ]
  },
  {
   "cell_type": "code",
   "execution_count": 12,
   "metadata": {},
   "outputs": [
    {
     "data": {
      "text/html": [
       "<ol class=list-inline>\n",
       "\t<li>1</li>\n",
       "\t<li>2</li>\n",
       "\t<li>3</li>\n",
       "</ol>\n"
      ],
      "text/latex": [
       "\\begin{enumerate*}\n",
       "\\item 1\n",
       "\\item 2\n",
       "\\item 3\n",
       "\\end{enumerate*}\n"
      ],
      "text/markdown": [
       "1. 1\n",
       "2. 2\n",
       "3. 3\n",
       "\n",
       "\n"
      ],
      "text/plain": [
       "[1] 1 2 3"
      ]
     },
     "metadata": {},
     "output_type": "display_data"
    }
   ],
   "source": [
    "a = 1:3\n",
    "a"
   ]
  },
  {
   "cell_type": "code",
   "execution_count": 13,
   "metadata": {},
   "outputs": [
    {
     "data": {
      "text/html": [
       "<ol class=list-inline>\n",
       "\t<li>2</li>\n",
       "\t<li>3</li>\n",
       "\t<li>4</li>\n",
       "</ol>\n"
      ],
      "text/latex": [
       "\\begin{enumerate*}\n",
       "\\item 2\n",
       "\\item 3\n",
       "\\item 4\n",
       "\\end{enumerate*}\n"
      ],
      "text/markdown": [
       "1. 2\n",
       "2. 3\n",
       "3. 4\n",
       "\n",
       "\n"
      ],
      "text/plain": [
       "[1] 2 3 4"
      ]
     },
     "metadata": {},
     "output_type": "display_data"
    }
   ],
   "source": [
    "b = 2:4 \n",
    "b"
   ]
  },
  {
   "cell_type": "code",
   "execution_count": 14,
   "metadata": {},
   "outputs": [
    {
     "data": {
      "text/html": [
       "<ol class=list-inline>\n",
       "\t<li>1</li>\n",
       "\t<li>2</li>\n",
       "\t<li>3</li>\n",
       "\t<li>2</li>\n",
       "\t<li>3</li>\n",
       "\t<li>4</li>\n",
       "</ol>\n"
      ],
      "text/latex": [
       "\\begin{enumerate*}\n",
       "\\item 1\n",
       "\\item 2\n",
       "\\item 3\n",
       "\\item 2\n",
       "\\item 3\n",
       "\\item 4\n",
       "\\end{enumerate*}\n"
      ],
      "text/markdown": [
       "1. 1\n",
       "2. 2\n",
       "3. 3\n",
       "4. 2\n",
       "5. 3\n",
       "6. 4\n",
       "\n",
       "\n"
      ],
      "text/plain": [
       "[1] 1 2 3 2 3 4"
      ]
     },
     "metadata": {},
     "output_type": "display_data"
    }
   ],
   "source": [
    "c(a,b)"
   ]
  },
  {
   "cell_type": "code",
   "execution_count": 15,
   "metadata": {},
   "outputs": [
    {
     "data": {
      "text/html": [
       "<ol class=list-inline>\n",
       "\t<li>1</li>\n",
       "\t<li>1</li>\n",
       "\t<li>2</li>\n",
       "\t<li>3</li>\n",
       "</ol>\n"
      ],
      "text/latex": [
       "\\begin{enumerate*}\n",
       "\\item 1\n",
       "\\item 1\n",
       "\\item 2\n",
       "\\item 3\n",
       "\\end{enumerate*}\n"
      ],
      "text/markdown": [
       "1. 1\n",
       "2. 1\n",
       "3. 2\n",
       "4. 3\n",
       "\n",
       "\n"
      ],
      "text/plain": [
       "[1] 1 1 2 3"
      ]
     },
     "metadata": {},
     "output_type": "display_data"
    }
   ],
   "source": [
    "c(1 ,1:3)"
   ]
  },
  {
   "cell_type": "code",
   "execution_count": 16,
   "metadata": {},
   "outputs": [
    {
     "data": {
      "text/html": [
       "<ol class=list-inline>\n",
       "\t<li>1</li>\n",
       "\t<li>1</li>\n",
       "\t<li>1</li>\n",
       "\t<li>1</li>\n",
       "</ol>\n"
      ],
      "text/latex": [
       "\\begin{enumerate*}\n",
       "\\item 1\n",
       "\\item 1\n",
       "\\item 1\n",
       "\\item 1\n",
       "\\end{enumerate*}\n"
      ],
      "text/markdown": [
       "1. 1\n",
       "2. 1\n",
       "3. 1\n",
       "4. 1\n",
       "\n",
       "\n"
      ],
      "text/plain": [
       "[1] 1 1 1 1"
      ]
     },
     "metadata": {},
     "output_type": "display_data"
    }
   ],
   "source": [
    "array(1 ,4)"
   ]
  },
  {
   "cell_type": "code",
   "execution_count": 17,
   "metadata": {},
   "outputs": [
    {
     "data": {
      "text/html": [
       "<ol class=list-inline>\n",
       "\t<li>1</li>\n",
       "\t<li>2</li>\n",
       "\t<li>3</li>\n",
       "</ol>\n"
      ],
      "text/latex": [
       "\\begin{enumerate*}\n",
       "\\item 1\n",
       "\\item 2\n",
       "\\item 3\n",
       "\\end{enumerate*}\n"
      ],
      "text/markdown": [
       "1. 1\n",
       "2. 2\n",
       "3. 3\n",
       "\n",
       "\n"
      ],
      "text/plain": [
       "[1] 1 2 3"
      ]
     },
     "metadata": {},
     "output_type": "display_data"
    }
   ],
   "source": [
    "seq(1 ,3)"
   ]
  },
  {
   "cell_type": "code",
   "execution_count": 18,
   "metadata": {},
   "outputs": [
    {
     "data": {
      "text/html": [
       "<ol class=list-inline>\n",
       "\t<li>1</li>\n",
       "\t<li>1.5</li>\n",
       "\t<li>2</li>\n",
       "\t<li>2.5</li>\n",
       "\t<li>3</li>\n",
       "</ol>\n"
      ],
      "text/latex": [
       "\\begin{enumerate*}\n",
       "\\item 1\n",
       "\\item 1.5\n",
       "\\item 2\n",
       "\\item 2.5\n",
       "\\item 3\n",
       "\\end{enumerate*}\n"
      ],
      "text/markdown": [
       "1. 1\n",
       "2. 1.5\n",
       "3. 2\n",
       "4. 2.5\n",
       "5. 3\n",
       "\n",
       "\n"
      ],
      "text/plain": [
       "[1] 1.0 1.5 2.0 2.5 3.0"
      ]
     },
     "metadata": {},
     "output_type": "display_data"
    }
   ],
   "source": [
    "seq(1,3, by=0.5)"
   ]
  },
  {
   "cell_type": "code",
   "execution_count": 19,
   "metadata": {},
   "outputs": [
    {
     "data": {
      "text/html": [
       "<ol class=list-inline>\n",
       "\t<li>1</li>\n",
       "\t<li>1.66666666666667</li>\n",
       "\t<li>2.33333333333333</li>\n",
       "\t<li>3</li>\n",
       "</ol>\n"
      ],
      "text/latex": [
       "\\begin{enumerate*}\n",
       "\\item 1\n",
       "\\item 1.66666666666667\n",
       "\\item 2.33333333333333\n",
       "\\item 3\n",
       "\\end{enumerate*}\n"
      ],
      "text/markdown": [
       "1. 1\n",
       "2. 1.66666666666667\n",
       "3. 2.33333333333333\n",
       "4. 3\n",
       "\n",
       "\n"
      ],
      "text/plain": [
       "[1] 1.000000 1.666667 2.333333 3.000000"
      ]
     },
     "metadata": {},
     "output_type": "display_data"
    }
   ],
   "source": [
    "seq(1,3, length.out = 4) "
   ]
  },
  {
   "cell_type": "code",
   "execution_count": 20,
   "metadata": {},
   "outputs": [
    {
     "data": {
      "text/html": [
       "<ol class=list-inline>\n",
       "\t<li>1</li>\n",
       "\t<li>2</li>\n",
       "\t<li>3</li>\n",
       "\t<li>4</li>\n",
       "\t<li>1</li>\n",
       "\t<li>2</li>\n",
       "\t<li>3</li>\n",
       "\t<li>4</li>\n",
       "</ol>\n"
      ],
      "text/latex": [
       "\\begin{enumerate*}\n",
       "\\item 1\n",
       "\\item 2\n",
       "\\item 3\n",
       "\\item 4\n",
       "\\item 1\n",
       "\\item 2\n",
       "\\item 3\n",
       "\\item 4\n",
       "\\end{enumerate*}\n"
      ],
      "text/markdown": [
       "1. 1\n",
       "2. 2\n",
       "3. 3\n",
       "4. 4\n",
       "5. 1\n",
       "6. 2\n",
       "7. 3\n",
       "8. 4\n",
       "\n",
       "\n"
      ],
      "text/plain": [
       "[1] 1 2 3 4 1 2 3 4"
      ]
     },
     "metadata": {},
     "output_type": "display_data"
    }
   ],
   "source": [
    "rep(1:4 ,2) "
   ]
  },
  {
   "cell_type": "code",
   "execution_count": 21,
   "metadata": {},
   "outputs": [
    {
     "data": {
      "text/html": [
       "<ol class=list-inline>\n",
       "\t<li>1</li>\n",
       "\t<li>1</li>\n",
       "\t<li>2</li>\n",
       "\t<li>2</li>\n",
       "\t<li>3</li>\n",
       "\t<li>3</li>\n",
       "\t<li>4</li>\n",
       "\t<li>4</li>\n",
       "</ol>\n"
      ],
      "text/latex": [
       "\\begin{enumerate*}\n",
       "\\item 1\n",
       "\\item 1\n",
       "\\item 2\n",
       "\\item 2\n",
       "\\item 3\n",
       "\\item 3\n",
       "\\item 4\n",
       "\\item 4\n",
       "\\end{enumerate*}\n"
      ],
      "text/markdown": [
       "1. 1\n",
       "2. 1\n",
       "3. 2\n",
       "4. 2\n",
       "5. 3\n",
       "6. 3\n",
       "7. 4\n",
       "8. 4\n",
       "\n",
       "\n"
      ],
      "text/plain": [
       "[1] 1 1 2 2 3 3 4 4"
      ]
     },
     "metadata": {},
     "output_type": "display_data"
    }
   ],
   "source": [
    "rep(1:4, each = 2)"
   ]
  },
  {
   "cell_type": "code",
   "execution_count": 22,
   "metadata": {},
   "outputs": [
    {
     "data": {
      "text/html": [
       "<ol class=list-inline>\n",
       "\t<li>7</li>\n",
       "\t<li>9</li>\n",
       "\t<li>9</li>\n",
       "\t<li>3</li>\n",
       "\t<li>3</li>\n",
       "\t<li>3</li>\n",
       "</ol>\n"
      ],
      "text/latex": [
       "\\begin{enumerate*}\n",
       "\\item 7\n",
       "\\item 9\n",
       "\\item 9\n",
       "\\item 3\n",
       "\\item 3\n",
       "\\item 3\n",
       "\\end{enumerate*}\n"
      ],
      "text/markdown": [
       "1. 7\n",
       "2. 9\n",
       "3. 9\n",
       "4. 3\n",
       "5. 3\n",
       "6. 3\n",
       "\n",
       "\n"
      ],
      "text/plain": [
       "[1] 7 9 9 3 3 3"
      ]
     },
     "metadata": {},
     "output_type": "display_data"
    }
   ],
   "source": [
    "rep(c(7 ,9 ,3), 1:3)"
   ]
  },
  {
   "cell_type": "code",
   "execution_count": 23,
   "metadata": {},
   "outputs": [
    {
     "data": {
      "text/html": [
       "4"
      ],
      "text/latex": [
       "4"
      ],
      "text/markdown": [
       "4"
      ],
      "text/plain": [
       "[1] 4"
      ]
     },
     "metadata": {},
     "output_type": "display_data"
    }
   ],
   "source": [
    "a = c(2 ,3 ,1 ,4)\n",
    "length(a)"
   ]
  },
  {
   "cell_type": "code",
   "execution_count": 24,
   "metadata": {},
   "outputs": [
    {
     "data": {
      "text/html": [
       "<ol class=list-inline>\n",
       "\t<li>4</li>\n",
       "\t<li>1</li>\n",
       "\t<li>3</li>\n",
       "\t<li>2</li>\n",
       "</ol>\n"
      ],
      "text/latex": [
       "\\begin{enumerate*}\n",
       "\\item 4\n",
       "\\item 1\n",
       "\\item 3\n",
       "\\item 2\n",
       "\\end{enumerate*}\n"
      ],
      "text/markdown": [
       "1. 4\n",
       "2. 1\n",
       "3. 3\n",
       "4. 2\n",
       "\n",
       "\n"
      ],
      "text/plain": [
       "[1] 4 1 3 2"
      ]
     },
     "metadata": {},
     "output_type": "display_data"
    }
   ],
   "source": [
    "rev(a)"
   ]
  },
  {
   "cell_type": "code",
   "execution_count": 25,
   "metadata": {},
   "outputs": [
    {
     "data": {
      "text/html": [
       "<ol class=list-inline>\n",
       "\t<li>2</li>\n",
       "\t<li>3</li>\n",
       "</ol>\n"
      ],
      "text/latex": [
       "\\begin{enumerate*}\n",
       "\\item 2\n",
       "\\item 3\n",
       "\\end{enumerate*}\n"
      ],
      "text/markdown": [
       "1. 2\n",
       "2. 3\n",
       "\n",
       "\n"
      ],
      "text/plain": [
       "[1] 2 3"
      ]
     },
     "metadata": {},
     "output_type": "display_data"
    }
   ],
   "source": [
    "a[1:2]"
   ]
  },
  {
   "cell_type": "code",
   "execution_count": 26,
   "metadata": {},
   "outputs": [
    {
     "data": {
      "text/html": [
       "<ol class=list-inline>\n",
       "\t<li>3</li>\n",
       "\t<li>1</li>\n",
       "\t<li>4</li>\n",
       "</ol>\n"
      ],
      "text/latex": [
       "\\begin{enumerate*}\n",
       "\\item 3\n",
       "\\item 1\n",
       "\\item 4\n",
       "\\end{enumerate*}\n"
      ],
      "text/markdown": [
       "1. 3\n",
       "2. 1\n",
       "3. 4\n",
       "\n",
       "\n"
      ],
      "text/plain": [
       "[1] 3 1 4"
      ]
     },
     "metadata": {},
     "output_type": "display_data"
    }
   ],
   "source": [
    "a[-1]"
   ]
  },
  {
   "cell_type": "code",
   "execution_count": 27,
   "metadata": {},
   "outputs": [
    {
     "data": {
      "text/html": [
       "<ol class=list-inline>\n",
       "\t<li>2</li>\n",
       "\t<li>1</li>\n",
       "</ol>\n"
      ],
      "text/latex": [
       "\\begin{enumerate*}\n",
       "\\item 2\n",
       "\\item 1\n",
       "\\end{enumerate*}\n"
      ],
      "text/markdown": [
       "1. 2\n",
       "2. 1\n",
       "\n",
       "\n"
      ],
      "text/plain": [
       "[1] 2 1"
      ]
     },
     "metadata": {},
     "output_type": "display_data"
    }
   ],
   "source": [
    "a[a < 3]"
   ]
  },
  {
   "cell_type": "code",
   "execution_count": 28,
   "metadata": {},
   "outputs": [
    {
     "data": {
      "text/html": [
       "2"
      ],
      "text/latex": [
       "2"
      ],
      "text/markdown": [
       "2"
      ],
      "text/plain": [
       "[1] 2"
      ]
     },
     "metadata": {},
     "output_type": "display_data"
    }
   ],
   "source": [
    "which(a == 3)"
   ]
  },
  {
   "cell_type": "code",
   "execution_count": 29,
   "metadata": {},
   "outputs": [
    {
     "data": {
      "text/html": [
       "<ol class=list-inline>\n",
       "\t<li>TRUE</li>\n",
       "\t<li>TRUE</li>\n",
       "\t<li>FALSE</li>\n",
       "\t<li>TRUE</li>\n",
       "</ol>\n"
      ],
      "text/latex": [
       "\\begin{enumerate*}\n",
       "\\item TRUE\n",
       "\\item TRUE\n",
       "\\item FALSE\n",
       "\\item TRUE\n",
       "\\end{enumerate*}\n"
      ],
      "text/markdown": [
       "1. TRUE\n",
       "2. TRUE\n",
       "3. FALSE\n",
       "4. TRUE\n",
       "\n",
       "\n"
      ],
      "text/plain": [
       "[1]  TRUE  TRUE FALSE  TRUE"
      ]
     },
     "metadata": {},
     "output_type": "display_data"
    }
   ],
   "source": [
    "a>1"
   ]
  },
  {
   "cell_type": "code",
   "execution_count": 30,
   "metadata": {},
   "outputs": [
    {
     "data": {
      "text/html": [
       "<ol class=list-inline>\n",
       "\t<li>'a'</li>\n",
       "\t<li>'b'</li>\n",
       "\t<li>'c'</li>\n",
       "</ol>\n"
      ],
      "text/latex": [
       "\\begin{enumerate*}\n",
       "\\item 'a'\n",
       "\\item 'b'\n",
       "\\item 'c'\n",
       "\\end{enumerate*}\n"
      ],
      "text/markdown": [
       "1. 'a'\n",
       "2. 'b'\n",
       "3. 'c'\n",
       "\n",
       "\n"
      ],
      "text/plain": [
       "[1] \"a\" \"b\" \"c\""
      ]
     },
     "metadata": {},
     "output_type": "display_data"
    }
   ],
   "source": [
    "letters[1:3]"
   ]
  },
  {
   "cell_type": "code",
   "execution_count": 31,
   "metadata": {},
   "outputs": [
    {
     "data": {
      "text/html": [
       "<ol class=list-inline>\n",
       "\t<li>'A'</li>\n",
       "\t<li>'B'</li>\n",
       "\t<li>'C'</li>\n",
       "</ol>\n"
      ],
      "text/latex": [
       "\\begin{enumerate*}\n",
       "\\item 'A'\n",
       "\\item 'B'\n",
       "\\item 'C'\n",
       "\\end{enumerate*}\n"
      ],
      "text/markdown": [
       "1. 'A'\n",
       "2. 'B'\n",
       "3. 'C'\n",
       "\n",
       "\n"
      ],
      "text/plain": [
       "[1] \"A\" \"B\" \"C\""
      ]
     },
     "metadata": {},
     "output_type": "display_data"
    }
   ],
   "source": [
    "LETTERS[1:3]"
   ]
  },
  {
   "cell_type": "code",
   "execution_count": 32,
   "metadata": {},
   "outputs": [
    {
     "data": {
      "text/html": [
       "<ol class=list-inline>\n",
       "\t<li>'Jan'</li>\n",
       "\t<li>'Feb'</li>\n",
       "\t<li>'Mar'</li>\n",
       "\t<li>'Apr'</li>\n",
       "\t<li>'May'</li>\n",
       "\t<li>'Jun'</li>\n",
       "</ol>\n"
      ],
      "text/latex": [
       "\\begin{enumerate*}\n",
       "\\item 'Jan'\n",
       "\\item 'Feb'\n",
       "\\item 'Mar'\n",
       "\\item 'Apr'\n",
       "\\item 'May'\n",
       "\\item 'Jun'\n",
       "\\end{enumerate*}\n"
      ],
      "text/markdown": [
       "1. 'Jan'\n",
       "2. 'Feb'\n",
       "3. 'Mar'\n",
       "4. 'Apr'\n",
       "5. 'May'\n",
       "6. 'Jun'\n",
       "\n",
       "\n"
      ],
      "text/plain": [
       "[1] \"Jan\" \"Feb\" \"Mar\" \"Apr\" \"May\" \"Jun\""
      ]
     },
     "metadata": {},
     "output_type": "display_data"
    }
   ],
   "source": [
    "month.abb[1:6]"
   ]
  },
  {
   "cell_type": "code",
   "execution_count": 33,
   "metadata": {},
   "outputs": [
    {
     "data": {
      "text/html": [
       "<ol class=list-inline>\n",
       "\t<li>'January'</li>\n",
       "\t<li>'February'</li>\n",
       "\t<li>'March'</li>\n",
       "\t<li>'April'</li>\n",
       "\t<li>'May'</li>\n",
       "\t<li>'June'</li>\n",
       "\t<li>'July'</li>\n",
       "\t<li>'August'</li>\n",
       "\t<li>'September'</li>\n",
       "\t<li>'October'</li>\n",
       "\t<li>'November'</li>\n",
       "\t<li>'December'</li>\n",
       "</ol>\n"
      ],
      "text/latex": [
       "\\begin{enumerate*}\n",
       "\\item 'January'\n",
       "\\item 'February'\n",
       "\\item 'March'\n",
       "\\item 'April'\n",
       "\\item 'May'\n",
       "\\item 'June'\n",
       "\\item 'July'\n",
       "\\item 'August'\n",
       "\\item 'September'\n",
       "\\item 'October'\n",
       "\\item 'November'\n",
       "\\item 'December'\n",
       "\\end{enumerate*}\n"
      ],
      "text/markdown": [
       "1. 'January'\n",
       "2. 'February'\n",
       "3. 'March'\n",
       "4. 'April'\n",
       "5. 'May'\n",
       "6. 'June'\n",
       "7. 'July'\n",
       "8. 'August'\n",
       "9. 'September'\n",
       "10. 'October'\n",
       "11. 'November'\n",
       "12. 'December'\n",
       "\n",
       "\n"
      ],
      "text/plain": [
       " [1] \"January\"   \"February\"  \"March\"     \"April\"     \"May\"       \"June\"     \n",
       " [7] \"July\"      \"August\"    \"September\" \"October\"   \"November\"  \"December\" "
      ]
     },
     "metadata": {},
     "output_type": "display_data"
    }
   ],
   "source": [
    "month.name[1:12]"
   ]
  },
  {
   "cell_type": "markdown",
   "metadata": {},
   "source": [
    "<a id='MainStructure'></a>\n",
    "#### Matrix"
   ]
  },
  {
   "cell_type": "code",
   "execution_count": 34,
   "metadata": {},
   "outputs": [
    {
     "data": {
      "text/html": [
       "<table>\n",
       "<caption>A matrix: 3 × 4 of type int</caption>\n",
       "<tbody>\n",
       "\t<tr><td>1</td><td>4</td><td>7</td><td>10</td></tr>\n",
       "\t<tr><td>2</td><td>5</td><td>8</td><td>11</td></tr>\n",
       "\t<tr><td>3</td><td>6</td><td>9</td><td>12</td></tr>\n",
       "</tbody>\n",
       "</table>\n"
      ],
      "text/latex": [
       "A matrix: 3 × 4 of type int\n",
       "\\begin{tabular}{llll}\n",
       "\t 1 & 4 & 7 & 10\\\\\n",
       "\t 2 & 5 & 8 & 11\\\\\n",
       "\t 3 & 6 & 9 & 12\\\\\n",
       "\\end{tabular}\n"
      ],
      "text/markdown": [
       "\n",
       "A matrix: 3 × 4 of type int\n",
       "\n",
       "| 1 | 4 | 7 | 10 |\n",
       "| 2 | 5 | 8 | 11 |\n",
       "| 3 | 6 | 9 | 12 |\n",
       "\n"
      ],
      "text/plain": [
       "     [,1] [,2] [,3] [,4]\n",
       "[1,] 1    4    7    10  \n",
       "[2,] 2    5    8    11  \n",
       "[3,] 3    6    9    12  "
      ]
     },
     "metadata": {},
     "output_type": "display_data"
    }
   ],
   "source": [
    "matrix (1:12 , nrow =3)"
   ]
  },
  {
   "cell_type": "code",
   "execution_count": 35,
   "metadata": {},
   "outputs": [
    {
     "data": {
      "text/html": [
       "<table>\n",
       "<caption>A matrix: 3 × 4 of type int</caption>\n",
       "<tbody>\n",
       "\t<tr><td>1</td><td> 2</td><td> 3</td><td> 4</td></tr>\n",
       "\t<tr><td>5</td><td> 6</td><td> 7</td><td> 8</td></tr>\n",
       "\t<tr><td>9</td><td>10</td><td>11</td><td>12</td></tr>\n",
       "</tbody>\n",
       "</table>\n"
      ],
      "text/latex": [
       "A matrix: 3 × 4 of type int\n",
       "\\begin{tabular}{llll}\n",
       "\t 1 &  2 &  3 &  4\\\\\n",
       "\t 5 &  6 &  7 &  8\\\\\n",
       "\t 9 & 10 & 11 & 12\\\\\n",
       "\\end{tabular}\n"
      ],
      "text/markdown": [
       "\n",
       "A matrix: 3 × 4 of type int\n",
       "\n",
       "| 1 |  2 |  3 |  4 |\n",
       "| 5 |  6 |  7 |  8 |\n",
       "| 9 | 10 | 11 | 12 |\n",
       "\n"
      ],
      "text/plain": [
       "     [,1] [,2] [,3] [,4]\n",
       "[1,] 1     2    3    4  \n",
       "[2,] 5     6    7    8  \n",
       "[3,] 9    10   11   12  "
      ]
     },
     "metadata": {},
     "output_type": "display_data"
    }
   ],
   "source": [
    "matrix (1:12 , nrow =3, byrow = TRUE)"
   ]
  },
  {
   "cell_type": "code",
   "execution_count": 36,
   "metadata": {},
   "outputs": [
    {
     "data": {
      "text/html": [
       "<table>\n",
       "<caption>A matrix: 2 × 2 of type dbl</caption>\n",
       "<tbody>\n",
       "\t<tr><td>2</td><td>2</td></tr>\n",
       "\t<tr><td>2</td><td>2</td></tr>\n",
       "</tbody>\n",
       "</table>\n"
      ],
      "text/latex": [
       "A matrix: 2 × 2 of type dbl\n",
       "\\begin{tabular}{ll}\n",
       "\t 2 & 2\\\\\n",
       "\t 2 & 2\\\\\n",
       "\\end{tabular}\n"
      ],
      "text/markdown": [
       "\n",
       "A matrix: 2 × 2 of type dbl\n",
       "\n",
       "| 2 | 2 |\n",
       "| 2 | 2 |\n",
       "\n"
      ],
      "text/plain": [
       "     [,1] [,2]\n",
       "[1,] 2    2   \n",
       "[2,] 2    2   "
      ]
     },
     "metadata": {},
     "output_type": "display_data"
    }
   ],
   "source": [
    "matrix (2, nrow =2, ncol =2)"
   ]
  },
  {
   "cell_type": "code",
   "execution_count": 37,
   "metadata": {},
   "outputs": [
    {
     "data": {
      "text/html": [
       "<table>\n",
       "<caption>A matrix: 3 × 4 of type int</caption>\n",
       "<tbody>\n",
       "\t<tr><td>1</td><td>4</td><td>7</td><td>10</td></tr>\n",
       "\t<tr><td>2</td><td>5</td><td>8</td><td>11</td></tr>\n",
       "\t<tr><td>3</td><td>6</td><td>9</td><td>12</td></tr>\n",
       "</tbody>\n",
       "</table>\n"
      ],
      "text/latex": [
       "A matrix: 3 × 4 of type int\n",
       "\\begin{tabular}{llll}\n",
       "\t 1 & 4 & 7 & 10\\\\\n",
       "\t 2 & 5 & 8 & 11\\\\\n",
       "\t 3 & 6 & 9 & 12\\\\\n",
       "\\end{tabular}\n"
      ],
      "text/markdown": [
       "\n",
       "A matrix: 3 × 4 of type int\n",
       "\n",
       "| 1 | 4 | 7 | 10 |\n",
       "| 2 | 5 | 8 | 11 |\n",
       "| 3 | 6 | 9 | 12 |\n",
       "\n"
      ],
      "text/plain": [
       "     [,1] [,2] [,3] [,4]\n",
       "[1,] 1    4    7    10  \n",
       "[2,] 2    5    8    11  \n",
       "[3,] 3    6    9    12  "
      ]
     },
     "metadata": {},
     "output_type": "display_data"
    }
   ],
   "source": [
    "matrix (1:12 , 3 ,4)"
   ]
  },
  {
   "cell_type": "code",
   "execution_count": 38,
   "metadata": {},
   "outputs": [
    {
     "data": {
      "text/html": [
       "<table>\n",
       "<caption>A matrix: 2 × 5 of type int</caption>\n",
       "<tbody>\n",
       "\t<tr><th scope=row>x</th><td>1</td><td>2</td><td>3</td><td>4</td><td>5</td></tr>\n",
       "\t<tr><th scope=row>y</th><td>4</td><td>5</td><td>6</td><td>7</td><td>8</td></tr>\n",
       "</tbody>\n",
       "</table>\n"
      ],
      "text/latex": [
       "A matrix: 2 × 5 of type int\n",
       "\\begin{tabular}{r|lllll}\n",
       "\tx & 1 & 2 & 3 & 4 & 5\\\\\n",
       "\ty & 4 & 5 & 6 & 7 & 8\\\\\n",
       "\\end{tabular}\n"
      ],
      "text/markdown": [
       "\n",
       "A matrix: 2 × 5 of type int\n",
       "\n",
       "| x | 1 | 2 | 3 | 4 | 5 |\n",
       "| y | 4 | 5 | 6 | 7 | 8 |\n",
       "\n"
      ],
      "text/plain": [
       "  [,1] [,2] [,3] [,4] [,5]\n",
       "x 1    2    3    4    5   \n",
       "y 4    5    6    7    8   "
      ]
     },
     "metadata": {},
     "output_type": "display_data"
    }
   ],
   "source": [
    "#Concatenation\n",
    "x = 1:5\n",
    "y = 4:8\n",
    "rbind (x,y)\n"
   ]
  },
  {
   "cell_type": "code",
   "execution_count": 39,
   "metadata": {},
   "outputs": [
    {
     "data": {
      "text/html": [
       "<table>\n",
       "<caption>A matrix: 5 × 2 of type int</caption>\n",
       "<thead>\n",
       "\t<tr><th scope=col>x</th><th scope=col>y</th></tr>\n",
       "</thead>\n",
       "<tbody>\n",
       "\t<tr><td>1</td><td>4</td></tr>\n",
       "\t<tr><td>2</td><td>5</td></tr>\n",
       "\t<tr><td>3</td><td>6</td></tr>\n",
       "\t<tr><td>4</td><td>7</td></tr>\n",
       "\t<tr><td>5</td><td>8</td></tr>\n",
       "</tbody>\n",
       "</table>\n"
      ],
      "text/latex": [
       "A matrix: 5 × 2 of type int\n",
       "\\begin{tabular}{ll}\n",
       " x & y\\\\\n",
       "\\hline\n",
       "\t 1 & 4\\\\\n",
       "\t 2 & 5\\\\\n",
       "\t 3 & 6\\\\\n",
       "\t 4 & 7\\\\\n",
       "\t 5 & 8\\\\\n",
       "\\end{tabular}\n"
      ],
      "text/markdown": [
       "\n",
       "A matrix: 5 × 2 of type int\n",
       "\n",
       "| x | y |\n",
       "|---|---|\n",
       "| 1 | 4 |\n",
       "| 2 | 5 |\n",
       "| 3 | 6 |\n",
       "| 4 | 7 |\n",
       "| 5 | 8 |\n",
       "\n"
      ],
      "text/plain": [
       "     x y\n",
       "[1,] 1 4\n",
       "[2,] 2 5\n",
       "[3,] 3 6\n",
       "[4,] 4 7\n",
       "[5,] 5 8"
      ]
     },
     "metadata": {},
     "output_type": "display_data"
    }
   ],
   "source": [
    "cbind (x,y)"
   ]
  },
  {
   "cell_type": "code",
   "execution_count": 40,
   "metadata": {},
   "outputs": [
    {
     "data": {
      "text/html": [
       "<table>\n",
       "<caption>A matrix: 2 × 5 of type int</caption>\n",
       "<tbody>\n",
       "\t<tr><td>1</td><td>3</td><td>5</td><td>7</td><td> 9</td></tr>\n",
       "\t<tr><td>2</td><td>4</td><td>6</td><td>8</td><td>10</td></tr>\n",
       "</tbody>\n",
       "</table>\n"
      ],
      "text/latex": [
       "A matrix: 2 × 5 of type int\n",
       "\\begin{tabular}{lllll}\n",
       "\t 1 & 3 & 5 & 7 &  9\\\\\n",
       "\t 2 & 4 & 6 & 8 & 10\\\\\n",
       "\\end{tabular}\n"
      ],
      "text/markdown": [
       "\n",
       "A matrix: 2 × 5 of type int\n",
       "\n",
       "| 1 | 3 | 5 | 7 |  9 |\n",
       "| 2 | 4 | 6 | 8 | 10 |\n",
       "\n"
      ],
      "text/plain": [
       "     [,1] [,2] [,3] [,4] [,5]\n",
       "[1,] 1    3    5    7     9  \n",
       "[2,] 2    4    6    8    10  "
      ]
     },
     "metadata": {},
     "output_type": "display_data"
    }
   ],
   "source": [
    "x <- matrix (1:10 , 2, 5)\n",
    "x"
   ]
  },
  {
   "cell_type": "code",
   "execution_count": 41,
   "metadata": {},
   "outputs": [
    {
     "data": {
      "text/html": [
       "<ol class=list-inline>\n",
       "\t<li>2</li>\n",
       "\t<li>5</li>\n",
       "</ol>\n"
      ],
      "text/latex": [
       "\\begin{enumerate*}\n",
       "\\item 2\n",
       "\\item 5\n",
       "\\end{enumerate*}\n"
      ],
      "text/markdown": [
       "1. 2\n",
       "2. 5\n",
       "\n",
       "\n"
      ],
      "text/plain": [
       "[1] 2 5"
      ]
     },
     "metadata": {},
     "output_type": "display_data"
    }
   ],
   "source": [
    "dim(x) # size of matrix x"
   ]
  },
  {
   "cell_type": "code",
   "execution_count": 42,
   "metadata": {},
   "outputs": [
    {
     "data": {
      "text/html": [
       "<table>\n",
       "<caption>A matrix: 2 × 5 of type int</caption>\n",
       "<tbody>\n",
       "\t<tr><td>1</td><td>2</td><td>3</td><td>4</td><td>5</td></tr>\n",
       "\t<tr><td>1</td><td>2</td><td>3</td><td>4</td><td>5</td></tr>\n",
       "</tbody>\n",
       "</table>\n"
      ],
      "text/latex": [
       "A matrix: 2 × 5 of type int\n",
       "\\begin{tabular}{lllll}\n",
       "\t 1 & 2 & 3 & 4 & 5\\\\\n",
       "\t 1 & 2 & 3 & 4 & 5\\\\\n",
       "\\end{tabular}\n"
      ],
      "text/markdown": [
       "\n",
       "A matrix: 2 × 5 of type int\n",
       "\n",
       "| 1 | 2 | 3 | 4 | 5 |\n",
       "| 1 | 2 | 3 | 4 | 5 |\n",
       "\n"
      ],
      "text/plain": [
       "     [,1] [,2] [,3] [,4] [,5]\n",
       "[1,] 1    2    3    4    5   \n",
       "[2,] 1    2    3    4    5   "
      ]
     },
     "metadata": {},
     "output_type": "display_data"
    }
   ],
   "source": [
    "col(x) # column indices of ALL elements"
   ]
  },
  {
   "cell_type": "code",
   "execution_count": 43,
   "metadata": {},
   "outputs": [
    {
     "data": {
      "text/html": [
       "<table>\n",
       "<caption>A matrix: 2 × 5 of type int</caption>\n",
       "<tbody>\n",
       "\t<tr><td>1</td><td>1</td><td>1</td><td>1</td><td>1</td></tr>\n",
       "\t<tr><td>2</td><td>2</td><td>2</td><td>2</td><td>2</td></tr>\n",
       "</tbody>\n",
       "</table>\n"
      ],
      "text/latex": [
       "A matrix: 2 × 5 of type int\n",
       "\\begin{tabular}{lllll}\n",
       "\t 1 & 1 & 1 & 1 & 1\\\\\n",
       "\t 2 & 2 & 2 & 2 & 2\\\\\n",
       "\\end{tabular}\n"
      ],
      "text/markdown": [
       "\n",
       "A matrix: 2 × 5 of type int\n",
       "\n",
       "| 1 | 1 | 1 | 1 | 1 |\n",
       "| 2 | 2 | 2 | 2 | 2 |\n",
       "\n"
      ],
      "text/plain": [
       "     [,1] [,2] [,3] [,4] [,5]\n",
       "[1,] 1    1    1    1    1   \n",
       "[2,] 2    2    2    2    2   "
      ]
     },
     "metadata": {},
     "output_type": "display_data"
    }
   ],
   "source": [
    "row(x) # row indices of ALL elements"
   ]
  },
  {
   "cell_type": "code",
   "execution_count": 44,
   "metadata": {},
   "outputs": [
    {
     "data": {
      "text/html": [
       "10"
      ],
      "text/latex": [
       "10"
      ],
      "text/markdown": [
       "10"
      ],
      "text/plain": [
       "[1] 10"
      ]
     },
     "metadata": {},
     "output_type": "display_data"
    }
   ],
   "source": [
    "x[2,5] # extract 2nd row and 5th column"
   ]
  },
  {
   "cell_type": "code",
   "execution_count": 45,
   "metadata": {},
   "outputs": [
    {
     "data": {
      "text/html": [
       "<table>\n",
       "<caption>A matrix: 2 × 2 of type dbl</caption>\n",
       "<thead>\n",
       "\t<tr><th scope=col>x1</th><th scope=col>x2</th></tr>\n",
       "</thead>\n",
       "<tbody>\n",
       "\t<tr><td>2</td><td>4</td></tr>\n",
       "\t<tr><td>5</td><td>7</td></tr>\n",
       "</tbody>\n",
       "</table>\n"
      ],
      "text/latex": [
       "A matrix: 2 × 2 of type dbl\n",
       "\\begin{tabular}{ll}\n",
       " x1 & x2\\\\\n",
       "\\hline\n",
       "\t 2 & 4\\\\\n",
       "\t 5 & 7\\\\\n",
       "\\end{tabular}\n"
      ],
      "text/markdown": [
       "\n",
       "A matrix: 2 × 2 of type dbl\n",
       "\n",
       "| x1 | x2 |\n",
       "|---|---|\n",
       "| 2 | 4 |\n",
       "| 5 | 7 |\n",
       "\n"
      ],
      "text/plain": [
       "     x1 x2\n",
       "[1,] 2  4 \n",
       "[2,] 5  7 "
      ]
     },
     "metadata": {},
     "output_type": "display_data"
    }
   ],
   "source": [
    "x1 = c(2,5)\n",
    "x2 = c(4,7)\n",
    "x=cbind (x1,x2)\n",
    "x"
   ]
  },
  {
   "cell_type": "code",
   "execution_count": 46,
   "metadata": {},
   "outputs": [
    {
     "data": {
      "text/html": [
       "<table>\n",
       "<caption>A matrix: 2 × 2 of type dbl</caption>\n",
       "<tbody>\n",
       "\t<tr><th scope=row>x1</th><td>2</td><td>5</td></tr>\n",
       "\t<tr><th scope=row>x2</th><td>4</td><td>7</td></tr>\n",
       "</tbody>\n",
       "</table>\n"
      ],
      "text/latex": [
       "A matrix: 2 × 2 of type dbl\n",
       "\\begin{tabular}{r|ll}\n",
       "\tx1 & 2 & 5\\\\\n",
       "\tx2 & 4 & 7\\\\\n",
       "\\end{tabular}\n"
      ],
      "text/markdown": [
       "\n",
       "A matrix: 2 × 2 of type dbl\n",
       "\n",
       "| x1 | 2 | 5 |\n",
       "| x2 | 4 | 7 |\n",
       "\n"
      ],
      "text/plain": [
       "   [,1] [,2]\n",
       "x1 2    5   \n",
       "x2 4    7   "
      ]
     },
     "metadata": {},
     "output_type": "display_data"
    }
   ],
   "source": [
    "t(x) #matrix transpose"
   ]
  },
  {
   "cell_type": "code",
   "execution_count": 47,
   "metadata": {},
   "outputs": [
    {
     "data": {
      "text/html": [
       "<table>\n",
       "<caption>A matrix: 2 × 2 of type dbl</caption>\n",
       "<tbody>\n",
       "\t<tr><th scope=row>x1</th><td>-1.1666667</td><td> 0.6666667</td></tr>\n",
       "\t<tr><th scope=row>x2</th><td> 0.8333333</td><td>-0.3333333</td></tr>\n",
       "</tbody>\n",
       "</table>\n"
      ],
      "text/latex": [
       "A matrix: 2 × 2 of type dbl\n",
       "\\begin{tabular}{r|ll}\n",
       "\tx1 & -1.1666667 &  0.6666667\\\\\n",
       "\tx2 &  0.8333333 & -0.3333333\\\\\n",
       "\\end{tabular}\n"
      ],
      "text/markdown": [
       "\n",
       "A matrix: 2 × 2 of type dbl\n",
       "\n",
       "| x1 | -1.1666667 |  0.6666667 |\n",
       "| x2 |  0.8333333 | -0.3333333 |\n",
       "\n"
      ],
      "text/plain": [
       "   [,1]       [,2]      \n",
       "x1 -1.1666667  0.6666667\n",
       "x2  0.8333333 -0.3333333"
      ]
     },
     "metadata": {},
     "output_type": "display_data"
    }
   ],
   "source": [
    "solve(x) #inverse matrix"
   ]
  },
  {
   "cell_type": "code",
   "execution_count": 48,
   "metadata": {},
   "outputs": [
    {
     "data": {
      "text/html": [
       "-6"
      ],
      "text/latex": [
       "-6"
      ],
      "text/markdown": [
       "-6"
      ],
      "text/plain": [
       "[1] -6"
      ]
     },
     "metadata": {},
     "output_type": "display_data"
    }
   ],
   "source": [
    "det(x) "
   ]
  },
  {
   "cell_type": "code",
   "execution_count": 49,
   "metadata": {},
   "outputs": [
    {
     "data": {
      "text/html": [
       "<ol class=list-inline>\n",
       "\t<li>2</li>\n",
       "\t<li>7</li>\n",
       "</ol>\n"
      ],
      "text/latex": [
       "\\begin{enumerate*}\n",
       "\\item 2\n",
       "\\item 7\n",
       "\\end{enumerate*}\n"
      ],
      "text/markdown": [
       "1. 2\n",
       "2. 7\n",
       "\n",
       "\n"
      ],
      "text/plain": [
       "[1] 2 7"
      ]
     },
     "metadata": {},
     "output_type": "display_data"
    }
   ],
   "source": [
    "diag(x) "
   ]
  },
  {
   "cell_type": "code",
   "execution_count": 50,
   "metadata": {},
   "outputs": [
    {
     "data": {
      "text/html": [
       "<table>\n",
       "<caption>A matrix: 2 × 2 of type dbl</caption>\n",
       "<thead>\n",
       "\t<tr><th scope=col>x1</th><th scope=col>x2</th></tr>\n",
       "</thead>\n",
       "<tbody>\n",
       "\t<tr><td> 6</td><td> 4</td></tr>\n",
       "\t<tr><td>30</td><td>28</td></tr>\n",
       "</tbody>\n",
       "</table>\n"
      ],
      "text/latex": [
       "A matrix: 2 × 2 of type dbl\n",
       "\\begin{tabular}{ll}\n",
       " x1 & x2\\\\\n",
       "\\hline\n",
       "\t  6 &  4\\\\\n",
       "\t 30 & 28\\\\\n",
       "\\end{tabular}\n"
      ],
      "text/markdown": [
       "\n",
       "A matrix: 2 × 2 of type dbl\n",
       "\n",
       "| x1 | x2 |\n",
       "|---|---|\n",
       "|  6 |  4 |\n",
       "| 30 | 28 |\n",
       "\n"
      ],
      "text/plain": [
       "     x1 x2\n",
       "[1,]  6  4\n",
       "[2,] 30 28"
      ]
     },
     "metadata": {},
     "output_type": "display_data"
    }
   ],
   "source": [
    "y1 = c(3,6)\n",
    "y2 = c(1,4)\n",
    "y=cbind (y1,y2)\n",
    "x*y\n"
   ]
  },
  {
   "cell_type": "code",
   "execution_count": 51,
   "metadata": {},
   "outputs": [
    {
     "data": {
      "text/html": [
       "<table>\n",
       "<caption>A matrix: 2 × 2 of type dbl</caption>\n",
       "<thead>\n",
       "\t<tr><th scope=col>y1</th><th scope=col>y2</th></tr>\n",
       "</thead>\n",
       "<tbody>\n",
       "\t<tr><td>30</td><td>18</td></tr>\n",
       "\t<tr><td>57</td><td>33</td></tr>\n",
       "</tbody>\n",
       "</table>\n"
      ],
      "text/latex": [
       "A matrix: 2 × 2 of type dbl\n",
       "\\begin{tabular}{ll}\n",
       " y1 & y2\\\\\n",
       "\\hline\n",
       "\t 30 & 18\\\\\n",
       "\t 57 & 33\\\\\n",
       "\\end{tabular}\n"
      ],
      "text/markdown": [
       "\n",
       "A matrix: 2 × 2 of type dbl\n",
       "\n",
       "| y1 | y2 |\n",
       "|---|---|\n",
       "| 30 | 18 |\n",
       "| 57 | 33 |\n",
       "\n"
      ],
      "text/plain": [
       "     y1 y2\n",
       "[1,] 30 18\n",
       "[2,] 57 33"
      ]
     },
     "metadata": {},
     "output_type": "display_data"
    }
   ],
   "source": [
    "x%*%y"
   ]
  },
  {
   "cell_type": "markdown",
   "metadata": {},
   "source": [
    "<a id='Dataframe'></a>\n",
    "#### Dataframe"
   ]
  },
  {
   "cell_type": "code",
   "execution_count": 52,
   "metadata": {},
   "outputs": [
    {
     "data": {
      "text/html": [
       "<table>\n",
       "<caption>A data.frame: 8 × 3</caption>\n",
       "<thead>\n",
       "\t<tr><th scope=col>Age</th><th scope=col>Sex</th><th scope=col>Sibblings</th></tr>\n",
       "\t<tr><th scope=col>&lt;dbl&gt;</th><th scope=col>&lt;fct&gt;</th><th scope=col>&lt;dbl&gt;</th></tr>\n",
       "</thead>\n",
       "<tbody>\n",
       "\t<tr><td>10</td><td>m</td><td>2</td></tr>\n",
       "\t<tr><td>20</td><td>f</td><td>5</td></tr>\n",
       "\t<tr><td>15</td><td>m</td><td>8</td></tr>\n",
       "\t<tr><td>43</td><td>f</td><td>3</td></tr>\n",
       "\t<tr><td>76</td><td>m</td><td>6</td></tr>\n",
       "\t<tr><td>41</td><td>f</td><td>1</td></tr>\n",
       "\t<tr><td>25</td><td>m</td><td>5</td></tr>\n",
       "\t<tr><td>46</td><td>f</td><td>6</td></tr>\n",
       "</tbody>\n",
       "</table>\n"
      ],
      "text/latex": [
       "A data.frame: 8 × 3\n",
       "\\begin{tabular}{r|lll}\n",
       " Age & Sex & Sibblings\\\\\n",
       " <dbl> & <fct> & <dbl>\\\\\n",
       "\\hline\n",
       "\t 10 & m & 2\\\\\n",
       "\t 20 & f & 5\\\\\n",
       "\t 15 & m & 8\\\\\n",
       "\t 43 & f & 3\\\\\n",
       "\t 76 & m & 6\\\\\n",
       "\t 41 & f & 1\\\\\n",
       "\t 25 & m & 5\\\\\n",
       "\t 46 & f & 6\\\\\n",
       "\\end{tabular}\n"
      ],
      "text/markdown": [
       "\n",
       "A data.frame: 8 × 3\n",
       "\n",
       "| Age &lt;dbl&gt; | Sex &lt;fct&gt; | Sibblings &lt;dbl&gt; |\n",
       "|---|---|---|\n",
       "| 10 | m | 2 |\n",
       "| 20 | f | 5 |\n",
       "| 15 | m | 8 |\n",
       "| 43 | f | 3 |\n",
       "| 76 | m | 6 |\n",
       "| 41 | f | 1 |\n",
       "| 25 | m | 5 |\n",
       "| 46 | f | 6 |\n",
       "\n"
      ],
      "text/plain": [
       "  Age Sex Sibblings\n",
       "1 10  m   2        \n",
       "2 20  f   5        \n",
       "3 15  m   8        \n",
       "4 43  f   3        \n",
       "5 76  m   6        \n",
       "6 41  f   1        \n",
       "7 25  m   5        \n",
       "8 46  f   6        "
      ]
     },
     "metadata": {},
     "output_type": "display_data"
    }
   ],
   "source": [
    "Age <- c(10 ,20 ,15 ,43 ,76 ,41 ,25 ,46)\n",
    "Sex <- factor (c(\"m\",\"f\",\"m\",\"f\",\"m\",\"f\",\"m\",\"f\"))\n",
    "Sibblings <- c(2 ,5 ,8 ,3 ,6 ,1 ,5 ,6)\n",
    "myframe <- data.frame(Age, Sex, Sibblings)\n",
    "myframe"
   ]
  },
  {
   "cell_type": "code",
   "execution_count": 53,
   "metadata": {},
   "outputs": [
    {
     "data": {
      "text/html": [
       "<table>\n",
       "<caption>A data.frame: 1 × 3</caption>\n",
       "<thead>\n",
       "\t<tr><th scope=col>Age</th><th scope=col>Sex</th><th scope=col>Sibblings</th></tr>\n",
       "\t<tr><th scope=col>&lt;dbl&gt;</th><th scope=col>&lt;fct&gt;</th><th scope=col>&lt;dbl&gt;</th></tr>\n",
       "</thead>\n",
       "<tbody>\n",
       "\t<tr><td>10</td><td>m</td><td>2</td></tr>\n",
       "</tbody>\n",
       "</table>\n"
      ],
      "text/latex": [
       "A data.frame: 1 × 3\n",
       "\\begin{tabular}{r|lll}\n",
       " Age & Sex & Sibblings\\\\\n",
       " <dbl> & <fct> & <dbl>\\\\\n",
       "\\hline\n",
       "\t 10 & m & 2\\\\\n",
       "\\end{tabular}\n"
      ],
      "text/markdown": [
       "\n",
       "A data.frame: 1 × 3\n",
       "\n",
       "| Age &lt;dbl&gt; | Sex &lt;fct&gt; | Sibblings &lt;dbl&gt; |\n",
       "|---|---|---|\n",
       "| 10 | m | 2 |\n",
       "\n"
      ],
      "text/plain": [
       "  Age Sex Sibblings\n",
       "1 10  m   2        "
      ]
     },
     "metadata": {},
     "output_type": "display_data"
    }
   ],
   "source": [
    "myframe[1,]"
   ]
  },
  {
   "cell_type": "code",
   "execution_count": 54,
   "metadata": {},
   "outputs": [
    {
     "data": {
      "text/html": [
       "<ol class=list-inline>\n",
       "\t<li>10</li>\n",
       "\t<li>20</li>\n",
       "\t<li>15</li>\n",
       "\t<li>43</li>\n",
       "\t<li>76</li>\n",
       "\t<li>41</li>\n",
       "\t<li>25</li>\n",
       "\t<li>46</li>\n",
       "</ol>\n"
      ],
      "text/latex": [
       "\\begin{enumerate*}\n",
       "\\item 10\n",
       "\\item 20\n",
       "\\item 15\n",
       "\\item 43\n",
       "\\item 76\n",
       "\\item 41\n",
       "\\item 25\n",
       "\\item 46\n",
       "\\end{enumerate*}\n"
      ],
      "text/markdown": [
       "1. 10\n",
       "2. 20\n",
       "3. 15\n",
       "4. 43\n",
       "5. 76\n",
       "6. 41\n",
       "7. 25\n",
       "8. 46\n",
       "\n",
       "\n"
      ],
      "text/plain": [
       "[1] 10 20 15 43 76 41 25 46"
      ]
     },
     "metadata": {},
     "output_type": "display_data"
    }
   ],
   "source": [
    "myframe[,1]"
   ]
  },
  {
   "cell_type": "code",
   "execution_count": 55,
   "metadata": {},
   "outputs": [
    {
     "data": {
      "text/html": [
       "<table>\n",
       "<caption>A data.frame: 8 × 1</caption>\n",
       "<thead>\n",
       "\t<tr><th scope=col>Age</th></tr>\n",
       "\t<tr><th scope=col>&lt;dbl&gt;</th></tr>\n",
       "</thead>\n",
       "<tbody>\n",
       "\t<tr><td>10</td></tr>\n",
       "\t<tr><td>20</td></tr>\n",
       "\t<tr><td>15</td></tr>\n",
       "\t<tr><td>43</td></tr>\n",
       "\t<tr><td>76</td></tr>\n",
       "\t<tr><td>41</td></tr>\n",
       "\t<tr><td>25</td></tr>\n",
       "\t<tr><td>46</td></tr>\n",
       "</tbody>\n",
       "</table>\n"
      ],
      "text/latex": [
       "A data.frame: 8 × 1\n",
       "\\begin{tabular}{r|l}\n",
       " Age\\\\\n",
       " <dbl>\\\\\n",
       "\\hline\n",
       "\t 10\\\\\n",
       "\t 20\\\\\n",
       "\t 15\\\\\n",
       "\t 43\\\\\n",
       "\t 76\\\\\n",
       "\t 41\\\\\n",
       "\t 25\\\\\n",
       "\t 46\\\\\n",
       "\\end{tabular}\n"
      ],
      "text/markdown": [
       "\n",
       "A data.frame: 8 × 1\n",
       "\n",
       "| Age &lt;dbl&gt; |\n",
       "|---|\n",
       "| 10 |\n",
       "| 20 |\n",
       "| 15 |\n",
       "| 43 |\n",
       "| 76 |\n",
       "| 41 |\n",
       "| 25 |\n",
       "| 46 |\n",
       "\n"
      ],
      "text/plain": [
       "  Age\n",
       "1 10 \n",
       "2 20 \n",
       "3 15 \n",
       "4 43 \n",
       "5 76 \n",
       "6 41 \n",
       "7 25 \n",
       "8 46 "
      ]
     },
     "metadata": {},
     "output_type": "display_data"
    }
   ],
   "source": [
    "myframe[\"Age\"]"
   ]
  },
  {
   "cell_type": "code",
   "execution_count": 56,
   "metadata": {},
   "outputs": [
    {
     "data": {
      "text/html": [
       "<ol class=list-inline>\n",
       "\t<li>10</li>\n",
       "\t<li>20</li>\n",
       "\t<li>15</li>\n",
       "\t<li>43</li>\n",
       "\t<li>76</li>\n",
       "\t<li>41</li>\n",
       "\t<li>25</li>\n",
       "\t<li>46</li>\n",
       "</ol>\n"
      ],
      "text/latex": [
       "\\begin{enumerate*}\n",
       "\\item 10\n",
       "\\item 20\n",
       "\\item 15\n",
       "\\item 43\n",
       "\\item 76\n",
       "\\item 41\n",
       "\\item 25\n",
       "\\item 46\n",
       "\\end{enumerate*}\n"
      ],
      "text/markdown": [
       "1. 10\n",
       "2. 20\n",
       "3. 15\n",
       "4. 43\n",
       "5. 76\n",
       "6. 41\n",
       "7. 25\n",
       "8. 46\n",
       "\n",
       "\n"
      ],
      "text/plain": [
       "[1] 10 20 15 43 76 41 25 46"
      ]
     },
     "metadata": {},
     "output_type": "display_data"
    }
   ],
   "source": [
    "myframe$Age"
   ]
  },
  {
   "cell_type": "code",
   "execution_count": 57,
   "metadata": {},
   "outputs": [],
   "source": [
    "myframe[3,3] <- 2 #mengubah nilai"
   ]
  },
  {
   "cell_type": "code",
   "execution_count": 58,
   "metadata": {},
   "outputs": [
    {
     "data": {
      "text/html": [
       "<table>\n",
       "<caption>A data.frame: 8 × 2</caption>\n",
       "<thead>\n",
       "\t<tr><th scope=col>Age</th><th scope=col>Sibblings</th></tr>\n",
       "\t<tr><th scope=col>&lt;dbl&gt;</th><th scope=col>&lt;dbl&gt;</th></tr>\n",
       "</thead>\n",
       "<tbody>\n",
       "\t<tr><td>10</td><td>2</td></tr>\n",
       "\t<tr><td>20</td><td>5</td></tr>\n",
       "\t<tr><td>15</td><td>2</td></tr>\n",
       "\t<tr><td>43</td><td>3</td></tr>\n",
       "\t<tr><td>76</td><td>6</td></tr>\n",
       "\t<tr><td>41</td><td>1</td></tr>\n",
       "\t<tr><td>25</td><td>5</td></tr>\n",
       "\t<tr><td>46</td><td>6</td></tr>\n",
       "</tbody>\n",
       "</table>\n"
      ],
      "text/latex": [
       "A data.frame: 8 × 2\n",
       "\\begin{tabular}{r|ll}\n",
       " Age & Sibblings\\\\\n",
       " <dbl> & <dbl>\\\\\n",
       "\\hline\n",
       "\t 10 & 2\\\\\n",
       "\t 20 & 5\\\\\n",
       "\t 15 & 2\\\\\n",
       "\t 43 & 3\\\\\n",
       "\t 76 & 6\\\\\n",
       "\t 41 & 1\\\\\n",
       "\t 25 & 5\\\\\n",
       "\t 46 & 6\\\\\n",
       "\\end{tabular}\n"
      ],
      "text/markdown": [
       "\n",
       "A data.frame: 8 × 2\n",
       "\n",
       "| Age &lt;dbl&gt; | Sibblings &lt;dbl&gt; |\n",
       "|---|---|\n",
       "| 10 | 2 |\n",
       "| 20 | 5 |\n",
       "| 15 | 2 |\n",
       "| 43 | 3 |\n",
       "| 76 | 6 |\n",
       "| 41 | 1 |\n",
       "| 25 | 5 |\n",
       "| 46 | 6 |\n",
       "\n"
      ],
      "text/plain": [
       "  Age Sibblings\n",
       "1 10  2        \n",
       "2 20  5        \n",
       "3 15  2        \n",
       "4 43  3        \n",
       "5 76  6        \n",
       "6 41  1        \n",
       "7 25  5        \n",
       "8 46  6        "
      ]
     },
     "metadata": {},
     "output_type": "display_data"
    }
   ],
   "source": [
    "myframe[,-2] #mendapatkan semua kolom selain kolom 2"
   ]
  },
  {
   "cell_type": "code",
   "execution_count": 59,
   "metadata": {},
   "outputs": [
    {
     "data": {
      "text/html": [
       "<table>\n",
       "<caption>A data.frame: 4 × 3</caption>\n",
       "<thead>\n",
       "\t<tr><th></th><th scope=col>Age</th><th scope=col>Sex</th><th scope=col>Sibblings</th></tr>\n",
       "\t<tr><th></th><th scope=col>&lt;dbl&gt;</th><th scope=col>&lt;fct&gt;</th><th scope=col>&lt;dbl&gt;</th></tr>\n",
       "</thead>\n",
       "<tbody>\n",
       "\t<tr><th scope=row>4</th><td>43</td><td>f</td><td>3</td></tr>\n",
       "\t<tr><th scope=row>5</th><td>76</td><td>m</td><td>6</td></tr>\n",
       "\t<tr><th scope=row>6</th><td>41</td><td>f</td><td>1</td></tr>\n",
       "\t<tr><th scope=row>8</th><td>46</td><td>f</td><td>6</td></tr>\n",
       "</tbody>\n",
       "</table>\n"
      ],
      "text/latex": [
       "A data.frame: 4 × 3\n",
       "\\begin{tabular}{r|lll}\n",
       "  & Age & Sex & Sibblings\\\\\n",
       "  & <dbl> & <fct> & <dbl>\\\\\n",
       "\\hline\n",
       "\t4 & 43 & f & 3\\\\\n",
       "\t5 & 76 & m & 6\\\\\n",
       "\t6 & 41 & f & 1\\\\\n",
       "\t8 & 46 & f & 6\\\\\n",
       "\\end{tabular}\n"
      ],
      "text/markdown": [
       "\n",
       "A data.frame: 4 × 3\n",
       "\n",
       "| <!--/--> | Age &lt;dbl&gt; | Sex &lt;fct&gt; | Sibblings &lt;dbl&gt; |\n",
       "|---|---|---|---|\n",
       "| 4 | 43 | f | 3 |\n",
       "| 5 | 76 | m | 6 |\n",
       "| 6 | 41 | f | 1 |\n",
       "| 8 | 46 | f | 6 |\n",
       "\n"
      ],
      "text/plain": [
       "  Age Sex Sibblings\n",
       "4 43  f   3        \n",
       "5 76  m   6        \n",
       "6 41  f   1        \n",
       "8 46  f   6        "
      ]
     },
     "metadata": {},
     "output_type": "display_data"
    }
   ],
   "source": [
    "subset(myframe,myframe$Age>30)"
   ]
  },
  {
   "cell_type": "code",
   "execution_count": 60,
   "metadata": {},
   "outputs": [
    {
     "data": {
      "text/html": [
       "31.5"
      ],
      "text/latex": [
       "31.5"
      ],
      "text/markdown": [
       "31.5"
      ],
      "text/plain": [
       "[1] 31.5"
      ]
     },
     "metadata": {},
     "output_type": "display_data"
    }
   ],
   "source": [
    "mean(subset(myframe$Age, myframe$Sex=='m'))"
   ]
  },
  {
   "cell_type": "code",
   "execution_count": 61,
   "metadata": {},
   "outputs": [
    {
     "data": {
      "text/html": [
       "<table>\n",
       "<caption>A data.frame: 1 × 3</caption>\n",
       "<thead>\n",
       "\t<tr><th></th><th scope=col>Age</th><th scope=col>Sex</th><th scope=col>Sibblings</th></tr>\n",
       "\t<tr><th></th><th scope=col>&lt;dbl&gt;</th><th scope=col>&lt;fct&gt;</th><th scope=col>&lt;dbl&gt;</th></tr>\n",
       "</thead>\n",
       "<tbody>\n",
       "\t<tr><th scope=row>5</th><td>76</td><td>m</td><td>6</td></tr>\n",
       "</tbody>\n",
       "</table>\n"
      ],
      "text/latex": [
       "A data.frame: 1 × 3\n",
       "\\begin{tabular}{r|lll}\n",
       "  & Age & Sex & Sibblings\\\\\n",
       "  & <dbl> & <fct> & <dbl>\\\\\n",
       "\\hline\n",
       "\t5 & 76 & m & 6\\\\\n",
       "\\end{tabular}\n"
      ],
      "text/markdown": [
       "\n",
       "A data.frame: 1 × 3\n",
       "\n",
       "| <!--/--> | Age &lt;dbl&gt; | Sex &lt;fct&gt; | Sibblings &lt;dbl&gt; |\n",
       "|---|---|---|---|\n",
       "| 5 | 76 | m | 6 |\n",
       "\n"
      ],
      "text/plain": [
       "  Age Sex Sibblings\n",
       "5 76  m   6        "
      ]
     },
     "metadata": {},
     "output_type": "display_data"
    }
   ],
   "source": [
    "myframe[(myframe$Sex=='m') & (myframe$Age>30),]"
   ]
  },
  {
   "cell_type": "code",
   "execution_count": 62,
   "metadata": {},
   "outputs": [],
   "source": [
    "myframe <- cbind(myframe, \"Income(USD)\"=c(1700, 2100, 2300, 2050,\n",
    "                                         2800, 1450, 3400, 2000))"
   ]
  },
  {
   "cell_type": "code",
   "execution_count": 63,
   "metadata": {},
   "outputs": [
    {
     "data": {
      "text/html": [
       "<table>\n",
       "<caption>A data.frame: 8 × 4</caption>\n",
       "<thead>\n",
       "\t<tr><th scope=col>Age</th><th scope=col>Sex</th><th scope=col>Sibblings</th><th scope=col>Income(USD)</th></tr>\n",
       "\t<tr><th scope=col>&lt;dbl&gt;</th><th scope=col>&lt;fct&gt;</th><th scope=col>&lt;dbl&gt;</th><th scope=col>&lt;dbl&gt;</th></tr>\n",
       "</thead>\n",
       "<tbody>\n",
       "\t<tr><td>10</td><td>m</td><td>2</td><td>1700</td></tr>\n",
       "\t<tr><td>20</td><td>f</td><td>5</td><td>2100</td></tr>\n",
       "\t<tr><td>15</td><td>m</td><td>2</td><td>2300</td></tr>\n",
       "\t<tr><td>43</td><td>f</td><td>3</td><td>2050</td></tr>\n",
       "\t<tr><td>76</td><td>m</td><td>6</td><td>2800</td></tr>\n",
       "\t<tr><td>41</td><td>f</td><td>1</td><td>1450</td></tr>\n",
       "\t<tr><td>25</td><td>m</td><td>5</td><td>3400</td></tr>\n",
       "\t<tr><td>46</td><td>f</td><td>6</td><td>2000</td></tr>\n",
       "</tbody>\n",
       "</table>\n"
      ],
      "text/latex": [
       "A data.frame: 8 × 4\n",
       "\\begin{tabular}{r|llll}\n",
       " Age & Sex & Sibblings & Income(USD)\\\\\n",
       " <dbl> & <fct> & <dbl> & <dbl>\\\\\n",
       "\\hline\n",
       "\t 10 & m & 2 & 1700\\\\\n",
       "\t 20 & f & 5 & 2100\\\\\n",
       "\t 15 & m & 2 & 2300\\\\\n",
       "\t 43 & f & 3 & 2050\\\\\n",
       "\t 76 & m & 6 & 2800\\\\\n",
       "\t 41 & f & 1 & 1450\\\\\n",
       "\t 25 & m & 5 & 3400\\\\\n",
       "\t 46 & f & 6 & 2000\\\\\n",
       "\\end{tabular}\n"
      ],
      "text/markdown": [
       "\n",
       "A data.frame: 8 × 4\n",
       "\n",
       "| Age &lt;dbl&gt; | Sex &lt;fct&gt; | Sibblings &lt;dbl&gt; | Income(USD) &lt;dbl&gt; |\n",
       "|---|---|---|---|\n",
       "| 10 | m | 2 | 1700 |\n",
       "| 20 | f | 5 | 2100 |\n",
       "| 15 | m | 2 | 2300 |\n",
       "| 43 | f | 3 | 2050 |\n",
       "| 76 | m | 6 | 2800 |\n",
       "| 41 | f | 1 | 1450 |\n",
       "| 25 | m | 5 | 3400 |\n",
       "| 46 | f | 6 | 2000 |\n",
       "\n"
      ],
      "text/plain": [
       "  Age Sex Sibblings Income(USD)\n",
       "1 10  m   2         1700       \n",
       "2 20  f   5         2100       \n",
       "3 15  m   2         2300       \n",
       "4 43  f   3         2050       \n",
       "5 76  m   6         2800       \n",
       "6 41  f   1         1450       \n",
       "7 25  m   5         3400       \n",
       "8 46  f   6         2000       "
      ]
     },
     "metadata": {},
     "output_type": "display_data"
    }
   ],
   "source": [
    "myframe"
   ]
  },
  {
   "cell_type": "code",
   "execution_count": 64,
   "metadata": {},
   "outputs": [
    {
     "data": {
      "text/html": [
       "<table>\n",
       "<caption>A data.frame: 8 × 4</caption>\n",
       "<thead>\n",
       "\t<tr><th></th><th scope=col>Age</th><th scope=col>Sex</th><th scope=col>Sibblings</th><th scope=col>Income(USD)</th></tr>\n",
       "\t<tr><th></th><th scope=col>&lt;dbl&gt;</th><th scope=col>&lt;fct&gt;</th><th scope=col>&lt;dbl&gt;</th><th scope=col>&lt;dbl&gt;</th></tr>\n",
       "</thead>\n",
       "<tbody>\n",
       "\t<tr><th scope=row>1</th><td>10</td><td>m</td><td>2</td><td>1700</td></tr>\n",
       "\t<tr><th scope=row>3</th><td>15</td><td>m</td><td>2</td><td>2300</td></tr>\n",
       "\t<tr><th scope=row>2</th><td>20</td><td>f</td><td>5</td><td>2100</td></tr>\n",
       "\t<tr><th scope=row>7</th><td>25</td><td>m</td><td>5</td><td>3400</td></tr>\n",
       "\t<tr><th scope=row>6</th><td>41</td><td>f</td><td>1</td><td>1450</td></tr>\n",
       "\t<tr><th scope=row>4</th><td>43</td><td>f</td><td>3</td><td>2050</td></tr>\n",
       "\t<tr><th scope=row>8</th><td>46</td><td>f</td><td>6</td><td>2000</td></tr>\n",
       "\t<tr><th scope=row>5</th><td>76</td><td>m</td><td>6</td><td>2800</td></tr>\n",
       "</tbody>\n",
       "</table>\n"
      ],
      "text/latex": [
       "A data.frame: 8 × 4\n",
       "\\begin{tabular}{r|llll}\n",
       "  & Age & Sex & Sibblings & Income(USD)\\\\\n",
       "  & <dbl> & <fct> & <dbl> & <dbl>\\\\\n",
       "\\hline\n",
       "\t1 & 10 & m & 2 & 1700\\\\\n",
       "\t3 & 15 & m & 2 & 2300\\\\\n",
       "\t2 & 20 & f & 5 & 2100\\\\\n",
       "\t7 & 25 & m & 5 & 3400\\\\\n",
       "\t6 & 41 & f & 1 & 1450\\\\\n",
       "\t4 & 43 & f & 3 & 2050\\\\\n",
       "\t8 & 46 & f & 6 & 2000\\\\\n",
       "\t5 & 76 & m & 6 & 2800\\\\\n",
       "\\end{tabular}\n"
      ],
      "text/markdown": [
       "\n",
       "A data.frame: 8 × 4\n",
       "\n",
       "| <!--/--> | Age &lt;dbl&gt; | Sex &lt;fct&gt; | Sibblings &lt;dbl&gt; | Income(USD) &lt;dbl&gt; |\n",
       "|---|---|---|---|---|\n",
       "| 1 | 10 | m | 2 | 1700 |\n",
       "| 3 | 15 | m | 2 | 2300 |\n",
       "| 2 | 20 | f | 5 | 2100 |\n",
       "| 7 | 25 | m | 5 | 3400 |\n",
       "| 6 | 41 | f | 1 | 1450 |\n",
       "| 4 | 43 | f | 3 | 2050 |\n",
       "| 8 | 46 | f | 6 | 2000 |\n",
       "| 5 | 76 | m | 6 | 2800 |\n",
       "\n"
      ],
      "text/plain": [
       "  Age Sex Sibblings Income(USD)\n",
       "1 10  m   2         1700       \n",
       "3 15  m   2         2300       \n",
       "2 20  f   5         2100       \n",
       "7 25  m   5         3400       \n",
       "6 41  f   1         1450       \n",
       "4 43  f   3         2050       \n",
       "8 46  f   6         2000       \n",
       "5 76  m   6         2800       "
      ]
     },
     "metadata": {},
     "output_type": "display_data"
    }
   ],
   "source": [
    "myframe[order(myframe$Age),]"
   ]
  },
  {
   "cell_type": "code",
   "execution_count": 65,
   "metadata": {},
   "outputs": [
    {
     "data": {
      "text/html": [
       "<table>\n",
       "<caption>A data.frame: 8 × 4</caption>\n",
       "<thead>\n",
       "\t<tr><th></th><th scope=col>Age</th><th scope=col>Sex</th><th scope=col>Sibblings</th><th scope=col>Income(USD)</th></tr>\n",
       "\t<tr><th></th><th scope=col>&lt;dbl&gt;</th><th scope=col>&lt;fct&gt;</th><th scope=col>&lt;dbl&gt;</th><th scope=col>&lt;dbl&gt;</th></tr>\n",
       "</thead>\n",
       "<tbody>\n",
       "\t<tr><th scope=row>2</th><td>20</td><td>f</td><td>5</td><td>2100</td></tr>\n",
       "\t<tr><th scope=row>6</th><td>41</td><td>f</td><td>1</td><td>1450</td></tr>\n",
       "\t<tr><th scope=row>4</th><td>43</td><td>f</td><td>3</td><td>2050</td></tr>\n",
       "\t<tr><th scope=row>8</th><td>46</td><td>f</td><td>6</td><td>2000</td></tr>\n",
       "\t<tr><th scope=row>1</th><td>10</td><td>m</td><td>2</td><td>1700</td></tr>\n",
       "\t<tr><th scope=row>3</th><td>15</td><td>m</td><td>2</td><td>2300</td></tr>\n",
       "\t<tr><th scope=row>7</th><td>25</td><td>m</td><td>5</td><td>3400</td></tr>\n",
       "\t<tr><th scope=row>5</th><td>76</td><td>m</td><td>6</td><td>2800</td></tr>\n",
       "</tbody>\n",
       "</table>\n"
      ],
      "text/latex": [
       "A data.frame: 8 × 4\n",
       "\\begin{tabular}{r|llll}\n",
       "  & Age & Sex & Sibblings & Income(USD)\\\\\n",
       "  & <dbl> & <fct> & <dbl> & <dbl>\\\\\n",
       "\\hline\n",
       "\t2 & 20 & f & 5 & 2100\\\\\n",
       "\t6 & 41 & f & 1 & 1450\\\\\n",
       "\t4 & 43 & f & 3 & 2050\\\\\n",
       "\t8 & 46 & f & 6 & 2000\\\\\n",
       "\t1 & 10 & m & 2 & 1700\\\\\n",
       "\t3 & 15 & m & 2 & 2300\\\\\n",
       "\t7 & 25 & m & 5 & 3400\\\\\n",
       "\t5 & 76 & m & 6 & 2800\\\\\n",
       "\\end{tabular}\n"
      ],
      "text/markdown": [
       "\n",
       "A data.frame: 8 × 4\n",
       "\n",
       "| <!--/--> | Age &lt;dbl&gt; | Sex &lt;fct&gt; | Sibblings &lt;dbl&gt; | Income(USD) &lt;dbl&gt; |\n",
       "|---|---|---|---|---|\n",
       "| 2 | 20 | f | 5 | 2100 |\n",
       "| 6 | 41 | f | 1 | 1450 |\n",
       "| 4 | 43 | f | 3 | 2050 |\n",
       "| 8 | 46 | f | 6 | 2000 |\n",
       "| 1 | 10 | m | 2 | 1700 |\n",
       "| 3 | 15 | m | 2 | 2300 |\n",
       "| 7 | 25 | m | 5 | 3400 |\n",
       "| 5 | 76 | m | 6 | 2800 |\n",
       "\n"
      ],
      "text/plain": [
       "  Age Sex Sibblings Income(USD)\n",
       "2 20  f   5         2100       \n",
       "6 41  f   1         1450       \n",
       "4 43  f   3         2050       \n",
       "8 46  f   6         2000       \n",
       "1 10  m   2         1700       \n",
       "3 15  m   2         2300       \n",
       "7 25  m   5         3400       \n",
       "5 76  m   6         2800       "
      ]
     },
     "metadata": {},
     "output_type": "display_data"
    }
   ],
   "source": [
    "myframe[order(myframe$Sex, myframe$Age),]"
   ]
  },
  {
   "cell_type": "markdown",
   "metadata": {},
   "source": [
    "<a id='ReadandWriteData'></a>\n",
    "## Read and Write Data"
   ]
  },
  {
   "cell_type": "markdown",
   "metadata": {},
   "source": [
    "### Read"
   ]
  },
  {
   "cell_type": "markdown",
   "metadata": {},
   "source": [
    "<img src=\"img/rnw.png\" width=\"700\">"
   ]
  },
  {
   "cell_type": "markdown",
   "metadata": {},
   "source": [
    "### Import Data in Rstudio"
   ]
  },
  {
   "cell_type": "markdown",
   "metadata": {},
   "source": [
    "<img src=\"img/import.png\" width=\"700\">"
   ]
  },
  {
   "cell_type": "markdown",
   "metadata": {},
   "source": [
    "### Write data"
   ]
  },
  {
   "cell_type": "markdown",
   "metadata": {},
   "source": [
    "<img src=\"img/write.png\" width=\"700\">"
   ]
  },
  {
   "cell_type": "markdown",
   "metadata": {},
   "source": [
    "<a id='ConditionalStatement'></a>\n",
    "## Conditional Statement"
   ]
  },
  {
   "cell_type": "code",
   "execution_count": 66,
   "metadata": {},
   "outputs": [],
   "source": [
    "#simple if\n",
    "x <- 1\n",
    "if (x==2){ print (\"x=2\") }"
   ]
  },
  {
   "cell_type": "code",
   "execution_count": 67,
   "metadata": {},
   "outputs": [
    {
     "name": "stdout",
     "output_type": "stream",
     "text": [
      "[1] \"x=2\"\n"
     ]
    }
   ],
   "source": [
    "#simple if\n",
    "x <- 2\n",
    "if (x==2){ print (\"x=2\") }\n"
   ]
  },
  {
   "cell_type": "code",
   "execution_count": 68,
   "metadata": {},
   "outputs": [
    {
     "name": "stdout",
     "output_type": "stream",
     "text": [
      "[1] \"x != 2\"\n"
     ]
    }
   ],
   "source": [
    "x <- 1\n",
    "if (x==2) {print (\"x = 2\")} else {print (\"x != 2\")}"
   ]
  },
  {
   "cell_type": "markdown",
   "metadata": {},
   "source": [
    "<a id='LogicalFunction'></a>\n",
    "## Logical Function"
   ]
  },
  {
   "cell_type": "markdown",
   "metadata": {},
   "source": [
    "Symbol | Meaning\n",
    "----| ----\n",
    "<| #smaller\n",
    "<=|#smaller or equal\n",
    ">| #bigger\n",
    ">=|#bigger or equal\n",
    "!=|#unequal\n",
    "==|#logical equal\n",
    "!| #logical NOT ( unary )\n",
    "&| #logical AND ( vector )\n",
    "\\|| #logical OR ( vector )\n",
    "&&|#logical AND (no vector )\n",
    "\\|\\||#logical OR (no vector )"
   ]
  },
  {
   "cell_type": "markdown",
   "metadata": {},
   "source": [
    "<a id='Looping'></a>\n",
    "## Looping"
   ]
  },
  {
   "cell_type": "markdown",
   "metadata": {},
   "source": [
    "<a id='for'></a>\n",
    "### for"
   ]
  },
  {
   "cell_type": "code",
   "execution_count": 69,
   "metadata": {},
   "outputs": [
    {
     "name": "stdout",
     "output_type": "stream",
     "text": [
      "[1] 1\n",
      "[1] 2\n",
      "[1] 3\n",
      "[1] 4\n"
     ]
    }
   ],
   "source": [
    "for (i in 1:4)\n",
    "    {print(i)}\n"
   ]
  },
  {
   "cell_type": "code",
   "execution_count": 70,
   "metadata": {},
   "outputs": [
    {
     "name": "stdout",
     "output_type": "stream",
     "text": [
      "[1] \"a\"\n",
      "[1] \"b\"\n",
      "[1] \"c\"\n",
      "[1] \"d\"\n"
     ]
    }
   ],
   "source": [
    "for (i in letters[1:4])\n",
    "    {print(i)}"
   ]
  },
  {
   "cell_type": "markdown",
   "metadata": {},
   "source": [
    "<a id='while'></a>\n",
    "### while"
   ]
  },
  {
   "cell_type": "code",
   "execution_count": 71,
   "metadata": {},
   "outputs": [
    {
     "name": "stdout",
     "output_type": "stream",
     "text": [
      "[1] 1\n",
      "[1] 2\n",
      "[1] 3\n",
      "[1] 4\n"
     ]
    }
   ],
   "source": [
    "i <- 0\n",
    "while (i<4) {\n",
    "  i <- i+1\n",
    "  print(i)\n",
    "}"
   ]
  },
  {
   "cell_type": "markdown",
   "metadata": {},
   "source": [
    "<a id='repeat'></a>\n",
    "### repeat"
   ]
  },
  {
   "cell_type": "code",
   "execution_count": 72,
   "metadata": {},
   "outputs": [
    {
     "name": "stdout",
     "output_type": "stream",
     "text": [
      "[1] 1\n",
      "[1] 2\n",
      "[1] 3\n",
      "[1] 4\n"
     ]
    }
   ],
   "source": [
    "i <- 0\n",
    "repeat {\n",
    "  i <- i+1\n",
    "  print (i)\n",
    "  if (i==4) break\n",
    "}"
   ]
  },
  {
   "cell_type": "markdown",
   "metadata": {},
   "source": [
    "<a id='Function'></a>\n",
    "## Function"
   ]
  },
  {
   "cell_type": "code",
   "execution_count": 73,
   "metadata": {},
   "outputs": [],
   "source": [
    "myfun <- function(x){\n",
    "  a=x^2/pi\n",
    "  return(a)\n",
    "}"
   ]
  },
  {
   "cell_type": "code",
   "execution_count": 74,
   "metadata": {},
   "outputs": [
    {
     "data": {
      "text/html": [
       "1.27323954473516"
      ],
      "text/latex": [
       "1.27323954473516"
      ],
      "text/markdown": [
       "1.27323954473516"
      ],
      "text/plain": [
       "[1] 1.27324"
      ]
     },
     "metadata": {},
     "output_type": "display_data"
    }
   ],
   "source": [
    "myfun(2)"
   ]
  },
  {
   "cell_type": "code",
   "execution_count": 75,
   "metadata": {},
   "outputs": [],
   "source": [
    "myfun5 <- function (x, a){\n",
    "  r1 <- a* sin (x)\n",
    "  r2 <- a* cos (x)\n",
    "  return ( list (r1 ,r2))\n",
    "}"
   ]
  },
  {
   "cell_type": "code",
   "execution_count": 76,
   "metadata": {},
   "outputs": [
    {
     "data": {
      "text/html": [
       "<ol>\n",
       "\t<li>3.63718970730273</li>\n",
       "\t<li>-1.66458734618857</li>\n",
       "</ol>\n"
      ],
      "text/latex": [
       "\\begin{enumerate}\n",
       "\\item 3.63718970730273\n",
       "\\item -1.66458734618857\n",
       "\\end{enumerate}\n"
      ],
      "text/markdown": [
       "1. 3.63718970730273\n",
       "2. -1.66458734618857\n",
       "\n",
       "\n"
      ],
      "text/plain": [
       "[[1]]\n",
       "[1] 3.63719\n",
       "\n",
       "[[2]]\n",
       "[1] -1.664587\n"
      ]
     },
     "metadata": {},
     "output_type": "display_data"
    }
   ],
   "source": [
    "myfun5 (2,4)"
   ]
  },
  {
   "cell_type": "code",
   "execution_count": 77,
   "metadata": {},
   "outputs": [],
   "source": [
    "fahrenheit_to_celsius <- function(temp_F) {\n",
    "  temp_C <- (temp_F - 32) * 5 / 9\n",
    "  return(temp_C)\n",
    "}"
   ]
  },
  {
   "cell_type": "code",
   "execution_count": 78,
   "metadata": {},
   "outputs": [
    {
     "data": {
      "text/html": [
       "82.2222222222222"
      ],
      "text/latex": [
       "82.2222222222222"
      ],
      "text/markdown": [
       "82.2222222222222"
      ],
      "text/plain": [
       "[1] 82.22222"
      ]
     },
     "metadata": {},
     "output_type": "display_data"
    }
   ],
   "source": [
    "fahrenheit_to_celsius(180)"
   ]
  },
  {
   "cell_type": "code",
   "execution_count": null,
   "metadata": {},
   "outputs": [],
   "source": []
  }
 ],
 "metadata": {
  "kernelspec": {
   "display_name": "R",
   "language": "R",
   "name": "ir"
  },
  "language_info": {
   "codemirror_mode": "r",
   "file_extension": ".r",
   "mimetype": "text/x-r-source",
   "name": "R",
   "pygments_lexer": "r",
   "version": "3.6.0"
  }
 },
 "nbformat": 4,
 "nbformat_minor": 4
}
